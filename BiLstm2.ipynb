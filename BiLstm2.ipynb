{
 "cells": [
  {
   "cell_type": "code",
   "execution_count": 1,
   "metadata": {
    "collapsed": true
   },
   "outputs": [],
   "source": [
    "import os\n",
    "import random\n",
    "import re\n",
    "import jieba\n",
    "import warnings\n",
    "from gensim.models import KeyedVectors\n",
    "import matplotlib.pyplot as plt\n",
    "import numpy as np\n",
    "# from keras.optimizer_v2.nadam import Nadam\n",
    "# from keras.preprocessing.sequence import pad_sequences\n",
    "from sklearn.model_selection import train_test_split\n",
    "# from keras.models import Sequential\n",
    "# from keras.layers import *\n",
    "# from keras.optimizers import *\n",
    "# from keras.utils import plot_model\n",
    "# from keras.callbacks import EarlyStopping, ModelCheckpoint, TensorBoard, ReduceLROnPlateau\n",
    "import pandas as pd"
   ]
  },
  {
   "cell_type": "code",
   "execution_count": 2,
   "outputs": [],
   "source": [
    "os.environ['TF_CPP_MIN_LOG_LEVEL'] = '2'\n",
    "warnings.filterwarnings(action='ignore', category=UserWarning, module='gensim')"
   ],
   "metadata": {
    "collapsed": false,
    "pycharm": {
     "name": "#%%\n"
    }
   }
  },
  {
   "cell_type": "markdown",
   "source": [
    "### 调整超参数"
   ],
   "metadata": {
    "collapsed": false
   }
  },
  {
   "cell_type": "code",
   "execution_count": 3,
   "outputs": [],
   "source": [
    "my_lr = 1e-2\n",
    "my_test_size = 0.2\n",
    "my_validation_split = 0.1\n",
    "my_epochs = 100\n",
    "my_batch_size = 128\n",
    "my_dropout = 0.2\n",
    "\n",
    "# my_optimizer = Nadam(lr=my_lr)\n",
    "my_loss = 'binary_crossentropy'\n",
    "my_loss1 = 'mse'"
   ],
   "metadata": {
    "collapsed": false,
    "pycharm": {
     "name": "#%%\n"
    }
   }
  },
  {
   "cell_type": "markdown",
   "source": [
    "### part-A: 数据探索"
   ],
   "metadata": {
    "collapsed": false
   }
  },
  {
   "cell_type": "code",
   "execution_count": 4,
   "outputs": [],
   "source": [
    "train_text = pd.read_csv(r'标注2万条.csv',encoding = 'utf-8')"
   ],
   "metadata": {
    "collapsed": false,
    "pycharm": {
     "name": "#%%\n"
    }
   }
  },
  {
   "cell_type": "markdown",
   "source": [
    "#### 随机展示"
   ],
   "metadata": {
    "collapsed": false
   }
  },
  {
   "cell_type": "code",
   "execution_count": 5,
   "outputs": [
    {
     "data": {
      "text/plain": "         用户名        博主id                                                 链接  \\\n0  梦想水逆退散我可以  5138543056  http://weibo.com/5138543056/InnknF2BA?refer_fl...   \n1      土豆薯条i  2797789061  http://weibo.com/2797789061/Innkq0sVP?refer_fl...   \n2     接着说的吴西  5994769461  http://weibo.com/5994769461/InnkAF4mp?refer_fl...   \n3       满炯月轮  6424392212  http://weibo.com/6424392212/InnkDCq1V?refer_fl...   \n4      挤痘痘大王  2255435330  http://weibo.com/2255435330/InnkMs47r?refer_fl...   \n\n   是否含有视频  转发数  评论数  点赞数 微博认证类型  是否原创 性别  \\\n0       0    0    0    0     -1     0  女   \n1       0    0    0    0     -1     1  男   \n2       0    0    0    0     -1     1  男   \n3       0    0    0    0     -1     1  男   \n4       0    0    1    2     -1     1  女   \n\n                                                  博文                 发布时间  \\\n0  2019年的最后一天， 武汉不明原因肺炎引恐慌[嘘]，附近口罩全被抢光了[泪]只能和fzj去...  2020-01-01 00:00:33   \n1         你许的什么愿呢\\n我们改成祝武汉同胞一切安好吧#跨年##武汉发现不明原因肺炎#  ​  2020-01-01 00:00:34   \n2  http://t.cn/AiFuZtRT\\n“困”字当选2019海峡两岸年度汉字http:/...  2020-01-01 00:01:04   \n3                  #武汉发现不明原因肺炎#牵手时，即使男人的手有多汗，也别放开。 ​  2020-01-01 00:01:11   \n4  跟欢等公交，发现旁边人都带了口罩排着长队，我俩插在了中间，我还说他们防范意识太强了吧，武汉的...  2020-01-01 00:01:32   \n\n  is_gov  information   emotion  \n0     no     0.529412  0.470588  \n1     no     0.666667  0.333333  \n2     no     0.800000  0.200000  \n3     no     1.000000  0.000000  \n4     no     0.714286  0.285714  ",
      "text/html": "<div>\n<style scoped>\n    .dataframe tbody tr th:only-of-type {\n        vertical-align: middle;\n    }\n\n    .dataframe tbody tr th {\n        vertical-align: top;\n    }\n\n    .dataframe thead th {\n        text-align: right;\n    }\n</style>\n<table border=\"1\" class=\"dataframe\">\n  <thead>\n    <tr style=\"text-align: right;\">\n      <th></th>\n      <th>用户名</th>\n      <th>博主id</th>\n      <th>链接</th>\n      <th>是否含有视频</th>\n      <th>转发数</th>\n      <th>评论数</th>\n      <th>点赞数</th>\n      <th>微博认证类型</th>\n      <th>是否原创</th>\n      <th>性别</th>\n      <th>博文</th>\n      <th>发布时间</th>\n      <th>is_gov</th>\n      <th>information</th>\n      <th>emotion</th>\n    </tr>\n  </thead>\n  <tbody>\n    <tr>\n      <th>0</th>\n      <td>梦想水逆退散我可以</td>\n      <td>5138543056</td>\n      <td>http://weibo.com/5138543056/InnknF2BA?refer_fl...</td>\n      <td>0</td>\n      <td>0</td>\n      <td>0</td>\n      <td>0</td>\n      <td>-1</td>\n      <td>0</td>\n      <td>女</td>\n      <td>2019年的最后一天， 武汉不明原因肺炎引恐慌[嘘]，附近口罩全被抢光了[泪]只能和fzj去...</td>\n      <td>2020-01-01 00:00:33</td>\n      <td>no</td>\n      <td>0.529412</td>\n      <td>0.470588</td>\n    </tr>\n    <tr>\n      <th>1</th>\n      <td>土豆薯条i</td>\n      <td>2797789061</td>\n      <td>http://weibo.com/2797789061/Innkq0sVP?refer_fl...</td>\n      <td>0</td>\n      <td>0</td>\n      <td>0</td>\n      <td>0</td>\n      <td>-1</td>\n      <td>1</td>\n      <td>男</td>\n      <td>你许的什么愿呢\\n我们改成祝武汉同胞一切安好吧#跨年##武汉发现不明原因肺炎#  ​</td>\n      <td>2020-01-01 00:00:34</td>\n      <td>no</td>\n      <td>0.666667</td>\n      <td>0.333333</td>\n    </tr>\n    <tr>\n      <th>2</th>\n      <td>接着说的吴西</td>\n      <td>5994769461</td>\n      <td>http://weibo.com/5994769461/InnkAF4mp?refer_fl...</td>\n      <td>0</td>\n      <td>0</td>\n      <td>0</td>\n      <td>0</td>\n      <td>-1</td>\n      <td>1</td>\n      <td>男</td>\n      <td>http://t.cn/AiFuZtRT\\n“困”字当选2019海峡两岸年度汉字http:/...</td>\n      <td>2020-01-01 00:01:04</td>\n      <td>no</td>\n      <td>0.800000</td>\n      <td>0.200000</td>\n    </tr>\n    <tr>\n      <th>3</th>\n      <td>满炯月轮</td>\n      <td>6424392212</td>\n      <td>http://weibo.com/6424392212/InnkDCq1V?refer_fl...</td>\n      <td>0</td>\n      <td>0</td>\n      <td>0</td>\n      <td>0</td>\n      <td>-1</td>\n      <td>1</td>\n      <td>男</td>\n      <td>#武汉发现不明原因肺炎#牵手时，即使男人的手有多汗，也别放开。 ​</td>\n      <td>2020-01-01 00:01:11</td>\n      <td>no</td>\n      <td>1.000000</td>\n      <td>0.000000</td>\n    </tr>\n    <tr>\n      <th>4</th>\n      <td>挤痘痘大王</td>\n      <td>2255435330</td>\n      <td>http://weibo.com/2255435330/InnkMs47r?refer_fl...</td>\n      <td>0</td>\n      <td>0</td>\n      <td>1</td>\n      <td>2</td>\n      <td>-1</td>\n      <td>1</td>\n      <td>女</td>\n      <td>跟欢等公交，发现旁边人都带了口罩排着长队，我俩插在了中间，我还说他们防范意识太强了吧，武汉的...</td>\n      <td>2020-01-01 00:01:32</td>\n      <td>no</td>\n      <td>0.714286</td>\n      <td>0.285714</td>\n    </tr>\n  </tbody>\n</table>\n</div>"
     },
     "execution_count": 5,
     "metadata": {},
     "output_type": "execute_result"
    }
   ],
   "source": [
    "train_text.head()"
   ],
   "metadata": {
    "collapsed": false,
    "pycharm": {
     "name": "#%%\n"
    }
   }
  },
  {
   "cell_type": "code",
   "execution_count": 6,
   "outputs": [
    {
     "name": "stdout",
     "output_type": "stream",
     "text": [
      "0    2019年的最后一天， 武汉不明原因肺炎引恐慌[嘘]，附近口罩全被抢光了[泪]只能和fzj去...\n",
      "1           你许的什么愿呢\\n我们改成祝武汉同胞一切安好吧#跨年##武汉发现不明原因肺炎#  ​\n",
      "2    http://t.cn/AiFuZtRT\\n“困”字当选2019海峡两岸年度汉字http:/...\n",
      "3                    #武汉发现不明原因肺炎#牵手时，即使男人的手有多汗，也别放开。 ​\n",
      "4    跟欢等公交，发现旁边人都带了口罩排着长队，我俩插在了中间，我还说他们防范意识太强了吧，武汉的...\n",
      "Name: 博文, dtype: object\n",
      "0    0.470588\n",
      "1    0.333333\n",
      "2    0.200000\n",
      "3    0.000000\n",
      "4    0.285714\n",
      "Name: emotion, dtype: float64\n"
     ]
    }
   ],
   "source": [
    "text_train = train_text.iloc[:,10]\n",
    "label_train = train_text.iloc[:,14]\n",
    "print(text_train .head())\n",
    "print(label_train.head())"
   ],
   "metadata": {
    "collapsed": false,
    "pycharm": {
     "name": "#%%\n"
    }
   }
  },
  {
   "cell_type": "markdown",
   "source": [
    "#### 数据预处理-分词"
   ],
   "metadata": {
    "collapsed": false
   }
  },
  {
   "cell_type": "code",
   "execution_count": 7,
   "outputs": [],
   "source": [
    "cn_model = KeyedVectors.load_word2vec_format('sgns.weibo.bigram.bz2', binary=False)"
   ],
   "metadata": {
    "collapsed": false,
    "pycharm": {
     "name": "#%%\n"
    }
   }
  },
  {
   "cell_type": "markdown",
   "source": [
    "#### 用jieba分词"
   ],
   "metadata": {
    "collapsed": false
   }
  },
  {
   "cell_type": "code",
   "execution_count": 8,
   "outputs": [
    {
     "name": "stdout",
     "output_type": "stream",
     "text": [
      "asdlkzm./.\\t .\n",
      "                2\n"
     ]
    }
   ],
   "source": [
    "sentence = \" asdlkzm./.\\\\t .\\n                2\"\n",
    "sentence = sentence.strip(\"\\n\")\n",
    "sentence = sentence.strip(\"\\\\t\")\n",
    "sentence = sentence.strip()\n",
    "print(sentence)"
   ],
   "metadata": {
    "collapsed": false,
    "pycharm": {
     "name": "#%%\n"
    }
   }
  },
  {
   "cell_type": "code",
   "execution_count": 9,
   "outputs": [
    {
     "name": "stderr",
     "output_type": "stream",
     "text": [
      "Building prefix dict from the default dictionary ...\n",
      "Dumping model to file cache C:\\Users\\Shy0418\\AppData\\Local\\Temp\\jieba.cache\n",
      "Loading model cost 1.623 seconds.\n",
      "Prefix dict has been built successfully.\n"
     ]
    },
    {
     "name": "stdout",
     "output_type": "stream",
     "text": [
      "num of train_tokens: 19994\n"
     ]
    }
   ],
   "source": [
    "train_tokens = []\n",
    "for text in text_train:\n",
    "    # 分词前去掉标点和特殊符号\n",
    "    text = re.sub(\"[\\s+\\.\\!\\/_,-|$%^*(+\\\"\\')]+|[+——！，； 。？ 、~@#￥%……&*（）]+\", \"\", text)\n",
    "    # text = text.split()\n",
    "    cut = jieba.cut(text)\n",
    "    cut_list = [i for i in cut]\n",
    "    for i, word in enumerate(cut_list):\n",
    "        try:\n",
    "            # 将分出来的每个词转换为词向量中的对应索引\n",
    "            cut_list[i] = cn_model.key_to_index[word]\n",
    "        except KeyError:\n",
    "            # 如果词不在词向量中，则索引标记为0\n",
    "            cut_list[i] = 0\n",
    "    train_tokens.append(cut_list)\n",
    "print('num of train_tokens: {0}'.format(len(train_tokens)))"
   ],
   "metadata": {
    "collapsed": false,
    "pycharm": {
     "name": "#%%\n"
    }
   }
  },
  {
   "cell_type": "code",
   "execution_count": 10,
   "outputs": [
    {
     "name": "stdout",
     "output_type": "stream",
     "text": [
      "[[48, 1, 254, 0, 1731, 9353, 1096, 38274, 6728, 15652, 20045, 1136, 6758, 418, 89, 30973, 5, 3586, 579, 16, 33, 446, 0, 6758, 18, 24794, 13, 15780, 0, 5, 845, 3182, 29150, 20045, 40198, 219, 50764, 5, 1354, 1, 254, 0, 23, 140950, 92, 49, 3586, 6102, 7688, 0, 966, 3017, 69, 1, 25, 1182, 0, 16300, 15, 2900, 218, 645, 49, 3177, 40198, 2626, 2931, 225, 3885, 14, 16, 173112, 130, 0, 191, 160, 59, 192, 14, 75, 76, 252, 75, 14, 18, 0], [0, 1, 86, 954, 98, 26, 6401, 638, 1731, 6051, 456, 7612, 49, 3070, 48, 1731, 259, 9353, 1096, 38274, 0], [21, 2746, 30, 625, 14211, 20637, 1496, 11619, 0, 38090, 0, 1731, 0, 12522, 6607, 38274, 41780, 7, 9938, 591, 8, 69842, 38274, 971, 259, 20, 20354, 3528, 16403, 1, 48, 5103, 138703, 4864, 178, 6669, 67, 6030, 21, 2579, 30, 625, 14211, 48, 21, 16184, 1496, 11619, 30, 725, 51, 18614, 27, 2229, 9983, 0, 352, 13, 1181, 16530, 21, 97601, 30, 403, 33420, 13561, 60535, 11619, 4274, 0, 1002, 846, 36, 192, 22, 13561, 43545, 1, 24809], [1731, 259, 9353, 1096, 38274, 6147, 145, 1429, 455, 1, 617, 10, 94105, 25, 405, 7862, 0], [0, 100, 3917, 259, 1957, 20, 24, 283, 5, 6758, 1697, 101, 28899, 8389, 4279, 13, 5, 2327, 14, 38, 45, 173, 13660, 4157, 0, 5, 49, 1731, 1, 38274, 8658, 2256, 167, 218, 91, 26, 25, 195, 2962, 0, 6758, 10266, 2582, 173, 617, 9830, 5, 617, 56902, 0, 5, 943, 275, 8389, 0, 1217, 24, 89, 41004, 0, 5, 422, 45, 33, 5961, 0, 343, 0, 11447, 4463, 34033, 2520, 16, 0, 20, 81, 5961, 2170, 0, 5, 8389, 4722, 13, 5, 5961, 1, 50, 3710, 162, 0, 2520, 0, 2895, 1375, 13, 3972, 376, 5961, 1, 2170, 89, 4829, 5, 63, 903, 343, 5, 83, 46425, 1033, 4668, 741, 0, 0, 1490, 437, 0, 1, 223, 390, 5557, 83, 32834, 5, 20, 148, 69, 0, 10266, 6758, 19, 124, 13, 2521, 86, 15471, 10637, 121953, 0, 0, 1, 223, 280, 501, 5, 579, 412, 10043, 2987, 263, 5, 28993, 83, 10, 2895, 2520, 283, 101, 5151, 1697, 5, 0, 81, 26, 636, 1, 223, 1, 25321, 32834, 5, 5756, 10, 34033, 1957, 83, 89, 2520, 32834, 579, 412, 0, 219, 192, 2520, 0, 1, 18172, 91764, 105905, 2398, 8203, 156, 20, 29757, 24425, 3175, 0, 5, 433, 4199, 2044, 1, 5685, 3773, 4623, 2987, 1924, 45, 9963, 413, 1266, 5, 636, 1, 223, 2853, 156, 20, 13, 82518, 14, 219, 580, 275, 3101, 5, 31, 603, 334, 0, 820, 4345, 5, 3036]]\n"
     ]
    }
   ],
   "source": [
    "print(train_tokens[0:5])"
   ],
   "metadata": {
    "collapsed": false,
    "pycharm": {
     "name": "#%%\n"
    }
   }
  },
  {
   "cell_type": "code",
   "execution_count": 11,
   "outputs": [
    {
     "name": "stdout",
     "output_type": "stream",
     "text": [
      "(19994, 2323)\n"
     ]
    }
   ],
   "source": [
    "train_tokens1 = pd.DataFrame(train_tokens)\n",
    "print(train_tokens1.shape)"
   ],
   "metadata": {
    "collapsed": false,
    "pycharm": {
     "name": "#%%\n"
    }
   }
  },
  {
   "cell_type": "markdown",
   "source": [
    "#### 数据预处理-索引化"
   ],
   "metadata": {
    "collapsed": false
   }
  },
  {
   "cell_type": "code",
   "execution_count": 12,
   "outputs": [
    {
     "data": {
      "text/plain": "<Figure size 432x288 with 1 Axes>",
      "image/png": "[encoded data removed]"
     },
     "metadata": {
      "needs_background": "light"
     },
     "output_type": "display_data"
    }
   ],
   "source": [
    "# 获得每条评论的长度，即分词后词语的个数，并将列表转换为ndarray格式\n",
    "num_tokens = [len(tokens) for tokens in train_tokens]\n",
    "num_tokens = np.array(num_tokens)\n",
    "\n",
    "# print('max-len of train_tokens: {0}'.format(np.max(num_tokens)))  # 最长评价的长度 1438\n",
    "# print('mean-len of train_tokens: {0}'.format(np.mean(num_tokens)))  # 平均评论的长度 68.77625\n",
    "\n",
    "# 绘制评论长度直方图\n",
    "plt.hist(np.log(num_tokens), bins = 100)\n",
    "plt.xlim((0,10))\n",
    "plt.ylabel('num of train_tokens')\n",
    "plt.xlabel('len of train_tokens')\n",
    "plt.show()\n",
    "\n",
    "# 每段评语的长度不一，需要将索引长度标准化\n",
    "mid_tokens = np.mean(num_tokens) + 2 * np.std(num_tokens)\n",
    "mid_tokens = int(mid_tokens)\n",
    "rate = np.sum( num_tokens < mid_tokens ) / len(num_tokens)\n"
   ],
   "metadata": {
    "collapsed": false,
    "pycharm": {
     "name": "#%%\n"
    }
   }
  },
  {
   "cell_type": "code",
   "execution_count": 44,
   "outputs": [
    {
     "name": "stdout",
     "output_type": "stream",
     "text": [
      "selected mid-len of train_tokens: 332\n",
      "cover rate: 0.9795438631589477\n"
     ]
    }
   ],
   "source": [
    "print('selected mid-len of train_tokens: {0}'.format(mid_tokens)) # 选取一个平均值，尽可能多的覆盖\n",
    "print('cover rate: {0}'.format(rate)) # 覆盖率"
   ],
   "metadata": {
    "collapsed": false,
    "pycharm": {
     "name": "#%%\n"
    }
   }
  },
  {
   "cell_type": "markdown",
   "source": [
    "#### 数据预处理-重新构建词向量"
   ],
   "metadata": {
    "collapsed": false
   }
  },
  {
   "cell_type": "code",
   "execution_count": 13,
   "outputs": [],
   "source": [
    "# 为了节省训练时间，抽取前50000个词构建新的词向量\n",
    "num_words = 50000\n",
    "embedding_dim = 300\n",
    "\n",
    "# 初始化embedding_matrix，之后在keras上进行应用\n",
    "# embedding_matrix为一个 [num_words，embedding_dim] 的矩阵，维度为 50000 * 300\n",
    "embedding_matrix = np.zeros((num_words, embedding_dim))\n",
    "for i in range(num_words):\n",
    "    embedding_matrix[i,:] = cn_model[cn_model.index_to_key[i]]\n",
    "embedding_matrix = embedding_matrix.astype('float32')\n"
   ],
   "metadata": {
    "collapsed": false,
    "pycharm": {
     "name": "#%%\n"
    }
   }
  },
  {
   "cell_type": "code",
   "execution_count": 14,
   "outputs": [
    {
     "name": "stdout",
     "output_type": "stream",
     "text": [
      "[-2.073660e-01 -3.877230e-01 -5.941960e-01  1.036712e+00 -9.219520e-01\n",
      " -2.028490e-01 -1.385460e-01  4.497960e-01  6.371860e-01 -7.204020e-01\n",
      "  2.503440e-01 -7.094190e-01 -5.069170e-01 -5.819260e-01  5.987460e-01\n",
      " -2.300650e-01 -2.411320e-01 -6.163150e-01 -3.919050e-01  3.336300e-02\n",
      "  7.183510e-01  5.609300e-02  9.089500e-02 -4.454610e-01 -3.104360e-01\n",
      "  2.306270e-01  1.097352e+00  5.977320e-01  3.648740e-01 -6.742300e-01\n",
      "  4.962420e-01  5.314670e-01 -1.118670e-01 -1.339079e+00  1.852600e-02\n",
      " -7.975500e-02 -4.758900e-02  3.982080e-01  7.224150e-01 -5.032290e-01\n",
      " -1.321270e-01 -1.449377e+00 -1.015189e+00  5.312600e-01  1.252450e-01\n",
      "  6.579160e-01 -3.334980e-01  4.766630e-01 -1.637080e-01  9.153660e-01\n",
      "  5.176910e-01  6.078030e-01 -3.126110e-01  2.178230e-01  8.761300e-02\n",
      " -2.659590e-01  5.893190e-01  9.001680e-01 -9.469720e-01  5.549240e-01\n",
      " -5.841270e-01 -1.486187e+00 -4.161990e-01  4.835240e-01  1.306750e-01\n",
      " -2.715700e-02 -2.704730e-01 -6.831700e-02  1.389320e-01  2.713860e-01\n",
      " -2.837490e-01  9.495530e-01  3.403040e-01  6.750020e-01 -8.358820e-01\n",
      " -9.803930e-01  5.491270e-01  2.225980e-01  7.913760e-01 -8.433710e-01\n",
      " -9.639220e-01 -4.412840e-01  2.737410e-01  1.758230e-01  2.498630e-01\n",
      "  3.942930e-01  5.677000e-01  4.915350e-01 -3.837190e-01 -6.491640e-01\n",
      " -1.465700e-02 -4.639350e-01 -8.744260e-01  5.549350e-01 -5.533020e-01\n",
      " -4.545000e-01  6.592880e-01  6.628170e-01  1.894190e-01  8.515230e-01\n",
      " -1.044900e-02 -5.737940e-01 -6.073850e-01 -2.324100e-02  4.489900e-02\n",
      "  9.810710e-01 -1.131330e-01  2.648010e-01  1.139970e-01  4.588730e-01\n",
      " -8.968400e-02  1.342320e-01  3.366870e-01  1.280940e-01 -2.776410e-01\n",
      "  8.362930e-01  6.838000e-02 -5.948900e-01 -2.833500e-01 -3.269990e-01\n",
      "  2.546780e-01  4.474360e-01 -1.648200e-01  9.856000e-03  1.551552e+00\n",
      "  8.688200e-02  3.636750e-01 -1.213480e-01 -5.775310e-01 -3.975630e-01\n",
      " -9.638310e-01 -1.852200e-02 -2.303420e-01  7.902100e-02 -3.444090e-01\n",
      " -4.911540e-01 -1.278130e-01 -2.146750e-01 -1.649000e+00  5.935000e-02\n",
      " -2.909610e-01  1.458580e-01 -3.010190e-01 -3.135060e-01 -1.091540e-01\n",
      "  4.091810e-01  9.343300e-01  1.274250e-01  5.059280e-01 -2.177020e-01\n",
      "  1.156594e+00 -1.086730e-01  1.302697e+00 -1.729790e-01  9.375500e-02\n",
      " -5.150570e-01  2.783190e-01 -3.078970e-01 -3.515240e-01 -4.122930e-01\n",
      " -2.167030e-01 -3.913150e-01  9.998610e-01  5.389000e-02 -3.988050e-01\n",
      " -2.790990e-01 -5.408370e-01 -4.916250e-01  6.290800e-01 -2.656000e-03\n",
      " -4.656920e-01  8.081890e-01 -2.669700e-02 -2.620530e-01  2.699440e-01\n",
      "  6.485100e-02 -3.757490e-01  6.394490e-01 -2.007440e-01 -6.074130e-01\n",
      "  4.347910e-01 -3.904650e-01 -1.533514e+00 -4.874440e-01  6.605180e-01\n",
      " -5.919780e-01 -4.105700e-02  3.246500e-01 -1.052140e+00 -4.869210e-01\n",
      "  3.736530e-01  3.020470e-01  1.033191e+00 -6.209890e-01 -2.513220e-01\n",
      " -3.093740e-01 -6.973460e-01 -4.102600e-01 -8.958940e-01  5.655870e-01\n",
      "  1.023917e+00  3.339800e-02 -5.559970e-01 -5.776100e-01 -1.115850e-01\n",
      "  2.807510e-01  2.798270e-01  4.879410e-01  6.164640e-01  1.054840e-01\n",
      " -1.352870e-01 -6.592250e-01  5.601200e-02 -5.928960e-01  3.145210e-01\n",
      "  3.225030e-01 -3.380710e-01 -2.361330e-01 -2.230540e-01 -5.651620e-01\n",
      "  1.841080e-01 -4.264550e-01 -3.732410e-01 -3.907280e-01  3.051000e-03\n",
      " -5.140050e-01  1.343982e+00 -9.195770e-01  7.529100e-02  2.602250e-01\n",
      " -5.268100e-02  6.440790e-01  3.157970e-01 -4.212740e-01 -1.892590e-01\n",
      " -9.813060e-01  7.403640e-01  1.232000e-03  7.969030e-01  5.107020e-01\n",
      " -1.741270e-01 -4.645010e-01  1.466726e+00 -1.195005e+00  1.373926e+00\n",
      " -4.464420e-01 -7.368660e-01 -1.759440e-01  6.149700e-02 -5.257800e-02\n",
      " -1.450100e+00  4.122810e-01 -8.528560e-01  3.986180e-01 -6.103140e-01\n",
      " -2.998150e-01 -2.940170e-01  3.220200e-02 -3.461810e-01 -1.651200e-01\n",
      " -7.677840e-01 -2.834730e-01  1.116910e-01  2.065380e-01 -3.396970e-01\n",
      "  1.768090e-01 -1.139850e-01 -3.846640e-01  1.561070e-01  5.190940e-01\n",
      " -1.431250e-01  4.419600e-02  2.861400e-02 -3.597770e-01  1.364940e-01\n",
      "  5.494780e-01  2.146310e-01 -8.484630e-01  2.840050e-01  9.052870e-01\n",
      "  1.933770e-01  9.441400e-02  1.600130e-01  2.785590e-01 -3.212660e-01\n",
      "  4.450650e-01  1.073900e-02 -1.314300e-02  5.331290e-01 -1.382590e-01\n",
      "  8.323420e-01  3.450100e-01  1.150492e+00 -7.254480e-01  2.655900e-02\n",
      "  8.149390e-01  7.255250e-01 -2.054110e-01  4.924370e-01  5.932370e-01]\n",
      "[-2.073660e-01 -3.877230e-01 -5.941960e-01  1.036712e+00 -9.219520e-01\n",
      " -2.028490e-01 -1.385460e-01  4.497960e-01  6.371860e-01 -7.204020e-01\n",
      "  2.503440e-01 -7.094190e-01 -5.069170e-01 -5.819260e-01  5.987460e-01\n",
      " -2.300650e-01 -2.411320e-01 -6.163150e-01 -3.919050e-01  3.336300e-02\n",
      "  7.183510e-01  5.609300e-02  9.089500e-02 -4.454610e-01 -3.104360e-01\n",
      "  2.306270e-01  1.097352e+00  5.977320e-01  3.648740e-01 -6.742300e-01\n",
      "  4.962420e-01  5.314670e-01 -1.118670e-01 -1.339079e+00  1.852600e-02\n",
      " -7.975500e-02 -4.758900e-02  3.982080e-01  7.224150e-01 -5.032290e-01\n",
      " -1.321270e-01 -1.449377e+00 -1.015189e+00  5.312600e-01  1.252450e-01\n",
      "  6.579160e-01 -3.334980e-01  4.766630e-01 -1.637080e-01  9.153660e-01\n",
      "  5.176910e-01  6.078030e-01 -3.126110e-01  2.178230e-01  8.761300e-02\n",
      " -2.659590e-01  5.893190e-01  9.001680e-01 -9.469720e-01  5.549240e-01\n",
      " -5.841270e-01 -1.486187e+00 -4.161990e-01  4.835240e-01  1.306750e-01\n",
      " -2.715700e-02 -2.704730e-01 -6.831700e-02  1.389320e-01  2.713860e-01\n",
      " -2.837490e-01  9.495530e-01  3.403040e-01  6.750020e-01 -8.358820e-01\n",
      " -9.803930e-01  5.491270e-01  2.225980e-01  7.913760e-01 -8.433710e-01\n",
      " -9.639220e-01 -4.412840e-01  2.737410e-01  1.758230e-01  2.498630e-01\n",
      "  3.942930e-01  5.677000e-01  4.915350e-01 -3.837190e-01 -6.491640e-01\n",
      " -1.465700e-02 -4.639350e-01 -8.744260e-01  5.549350e-01 -5.533020e-01\n",
      " -4.545000e-01  6.592880e-01  6.628170e-01  1.894190e-01  8.515230e-01\n",
      " -1.044900e-02 -5.737940e-01 -6.073850e-01 -2.324100e-02  4.489900e-02\n",
      "  9.810710e-01 -1.131330e-01  2.648010e-01  1.139970e-01  4.588730e-01\n",
      " -8.968400e-02  1.342320e-01  3.366870e-01  1.280940e-01 -2.776410e-01\n",
      "  8.362930e-01  6.838000e-02 -5.948900e-01 -2.833500e-01 -3.269990e-01\n",
      "  2.546780e-01  4.474360e-01 -1.648200e-01  9.856000e-03  1.551552e+00\n",
      "  8.688200e-02  3.636750e-01 -1.213480e-01 -5.775310e-01 -3.975630e-01\n",
      " -9.638310e-01 -1.852200e-02 -2.303420e-01  7.902100e-02 -3.444090e-01\n",
      " -4.911540e-01 -1.278130e-01 -2.146750e-01 -1.649000e+00  5.935000e-02\n",
      " -2.909610e-01  1.458580e-01 -3.010190e-01 -3.135060e-01 -1.091540e-01\n",
      "  4.091810e-01  9.343300e-01  1.274250e-01  5.059280e-01 -2.177020e-01\n",
      "  1.156594e+00 -1.086730e-01  1.302697e+00 -1.729790e-01  9.375500e-02\n",
      " -5.150570e-01  2.783190e-01 -3.078970e-01 -3.515240e-01 -4.122930e-01\n",
      " -2.167030e-01 -3.913150e-01  9.998610e-01  5.389000e-02 -3.988050e-01\n",
      " -2.790990e-01 -5.408370e-01 -4.916250e-01  6.290800e-01 -2.656000e-03\n",
      " -4.656920e-01  8.081890e-01 -2.669700e-02 -2.620530e-01  2.699440e-01\n",
      "  6.485100e-02 -3.757490e-01  6.394490e-01 -2.007440e-01 -6.074130e-01\n",
      "  4.347910e-01 -3.904650e-01 -1.533514e+00 -4.874440e-01  6.605180e-01\n",
      " -5.919780e-01 -4.105700e-02  3.246500e-01 -1.052140e+00 -4.869210e-01\n",
      "  3.736530e-01  3.020470e-01  1.033191e+00 -6.209890e-01 -2.513220e-01\n",
      " -3.093740e-01 -6.973460e-01 -4.102600e-01 -8.958940e-01  5.655870e-01\n",
      "  1.023917e+00  3.339800e-02 -5.559970e-01 -5.776100e-01 -1.115850e-01\n",
      "  2.807510e-01  2.798270e-01  4.879410e-01  6.164640e-01  1.054840e-01\n",
      " -1.352870e-01 -6.592250e-01  5.601200e-02 -5.928960e-01  3.145210e-01\n",
      "  3.225030e-01 -3.380710e-01 -2.361330e-01 -2.230540e-01 -5.651620e-01\n",
      "  1.841080e-01 -4.264550e-01 -3.732410e-01 -3.907280e-01  3.051000e-03\n",
      " -5.140050e-01  1.343982e+00 -9.195770e-01  7.529100e-02  2.602250e-01\n",
      " -5.268100e-02  6.440790e-01  3.157970e-01 -4.212740e-01 -1.892590e-01\n",
      " -9.813060e-01  7.403640e-01  1.232000e-03  7.969030e-01  5.107020e-01\n",
      " -1.741270e-01 -4.645010e-01  1.466726e+00 -1.195005e+00  1.373926e+00\n",
      " -4.464420e-01 -7.368660e-01 -1.759440e-01  6.149700e-02 -5.257800e-02\n",
      " -1.450100e+00  4.122810e-01 -8.528560e-01  3.986180e-01 -6.103140e-01\n",
      " -2.998150e-01 -2.940170e-01  3.220200e-02 -3.461810e-01 -1.651200e-01\n",
      " -7.677840e-01 -2.834730e-01  1.116910e-01  2.065380e-01 -3.396970e-01\n",
      "  1.768090e-01 -1.139850e-01 -3.846640e-01  1.561070e-01  5.190940e-01\n",
      " -1.431250e-01  4.419600e-02  2.861400e-02 -3.597770e-01  1.364940e-01\n",
      "  5.494780e-01  2.146310e-01 -8.484630e-01  2.840050e-01  9.052870e-01\n",
      "  1.933770e-01  9.441400e-02  1.600130e-01  2.785590e-01 -3.212660e-01\n",
      "  4.450650e-01  1.073900e-02 -1.314300e-02  5.331290e-01 -1.382590e-01\n",
      "  8.323420e-01  3.450100e-01  1.150492e+00 -7.254480e-01  2.655900e-02\n",
      "  8.149390e-01  7.255250e-01 -2.054110e-01  4.924370e-01  5.932370e-01]\n"
     ]
    },
    {
     "data": {
      "text/plain": "300"
     },
     "execution_count": 14,
     "metadata": {},
     "output_type": "execute_result"
    }
   ],
   "source": [
    "# 检查新构建的词向量与预训练的词向量index是否对应\n",
    "print(cn_model[cn_model.index_to_key[10]])\n",
    "print(embedding_matrix[10])\n",
    "np.sum(cn_model[cn_model.index_to_key[10]] == embedding_matrix[10] ) # 300"
   ],
   "metadata": {
    "collapsed": false,
    "pycharm": {
     "name": "#%%\n"
    }
   }
  },
  {
   "cell_type": "code",
   "execution_count": 15,
   "outputs": [
    {
     "data": {
      "text/plain": "(50000, 300)"
     },
     "execution_count": 15,
     "metadata": {},
     "output_type": "execute_result"
    }
   ],
   "source": [
    "# 新建词向量的维度，keras会用到\n",
    "embedding_matrix.shape"
   ],
   "metadata": {
    "collapsed": false,
    "pycharm": {
     "name": "#%%\n"
    }
   }
  },
  {
   "cell_type": "markdown",
   "source": [
    " #### 数据预处理-填充与裁剪"
   ],
   "metadata": {
    "collapsed": false
   }
  },
  {
   "cell_type": "code",
   "execution_count": 16,
   "outputs": [
    {
     "name": "stdout",
     "output_type": "stream",
     "text": [
      "[[    0     0     0 ...    14    18     0]\n",
      " [    0     0     0 ...  1096 38274     0]\n",
      " [    0     0     0 ... 43545     1 24809]\n",
      " ...\n",
      " [    0     0     0 ...  3863   667   217]\n",
      " [    0     0     0 ...     0     0     0]\n",
      " [    0     0     0 ...     0     0     0]]\n"
     ]
    }
   ],
   "source": [
    "from keras_preprocessing.sequence import pad_sequences\n",
    "\n",
    "# 输入的train_tokens是一个list，返回的train_pad是一个numpy array，采用pre填充的方式\n",
    "train_pad = pad_sequences(train_tokens, maxlen=mid_tokens, padding='pre', truncating='pre')\n",
    "print(train_pad)"
   ],
   "metadata": {
    "collapsed": false,
    "pycharm": {
     "name": "#%%\n"
    }
   }
  },
  {
   "cell_type": "code",
   "execution_count": 17,
   "outputs": [
    {
     "name": "stdout",
     "output_type": "stream",
     "text": [
      "0        0.470588\n",
      "1        0.333333\n",
      "2        0.200000\n",
      "3        0.000000\n",
      "4        0.285714\n",
      "           ...   \n",
      "19989    0.052632\n",
      "19990    0.125000\n",
      "19991    0.050000\n",
      "19992    0.000000\n",
      "19993    0.000000\n",
      "Name: emotion, Length: 19994, dtype: float64\n"
     ]
    }
   ],
   "source": [
    "# 超出五万个词向量的词用0代替\n",
    "train_pad[train_pad>=num_words] = 0\n",
    "\n",
    "# 准备实际输出结果向量向量，前2000好评的样本设为1，后2000差评样本设为0\n",
    "train_target = label_train\n",
    "print(train_target)"
   ],
   "metadata": {
    "collapsed": false,
    "pycharm": {
     "name": "#%%\n"
    }
   }
  },
  {
   "cell_type": "markdown",
   "source": [
    "#### 训练"
   ],
   "metadata": {
    "collapsed": false
   }
  },
  {
   "cell_type": "code",
   "execution_count": 18,
   "outputs": [],
   "source": [
    "X_train, X_test, y_train, y_test = train_test_split(train_pad, train_target, test_size=0.2, random_state=12,shuffle=True)"
   ],
   "metadata": {
    "collapsed": false,
    "pycharm": {
     "name": "#%%\n"
    }
   }
  },
  {
   "cell_type": "code",
   "execution_count": 19,
   "outputs": [
    {
     "name": "stdout",
     "output_type": "stream",
     "text": [
      "(15995, 332)\n",
      "(15995,)\n"
     ]
    }
   ],
   "source": [
    "# print(y_train)\n",
    "# print(X_train)\n",
    "print(X_train.shape)\n",
    "print(y_train.shape)"
   ],
   "metadata": {
    "collapsed": false,
    "pycharm": {
     "name": "#%%\n"
    }
   }
  },
  {
   "cell_type": "markdown",
   "source": [
    "#### 存储编码后的文件"
   ],
   "metadata": {
    "collapsed": false
   }
  },
  {
   "cell_type": "code",
   "execution_count": 20,
   "outputs": [],
   "source": [
    "pd.DataFrame(X_train).to_csv(r'x_train_weight.csv',encoding='utf-8',index=False)"
   ],
   "metadata": {
    "collapsed": false,
    "pycharm": {
     "name": "#%%\n"
    }
   }
  },
  {
   "cell_type": "markdown",
   "source": [
    "#### 搭建神经网络"
   ],
   "metadata": {
    "collapsed": false
   }
  },
  {
   "cell_type": "code",
   "execution_count": 21,
   "outputs": [
    {
     "name": "stdout",
     "output_type": "stream",
     "text": [
      "WARNING:tensorflow:From d:\\python3.6.6\\lib\\site-packages\\tensorflow_core\\python\\keras\\initializers.py:119: calling RandomUniform.__init__ (from tensorflow.python.ops.init_ops) with dtype is deprecated and will be removed in a future version.\n",
      "Instructions for updating:\n",
      "Call initializer instance with the dtype argument instead of passing it to the constructor\n",
      "WARNING:tensorflow:From d:\\python3.6.6\\lib\\site-packages\\tensorflow_core\\python\\ops\\resource_variable_ops.py:1630: calling BaseResourceVariable.__init__ (from tensorflow.python.ops.resource_variable_ops) with constraint is deprecated and will be removed in a future version.\n",
      "Instructions for updating:\n",
      "If using Keras pass *_constraint arguments to layers.\n",
      "WARNING:tensorflow:From d:\\python3.6.6\\lib\\site-packages\\tensorflow_core\\python\\ops\\init_ops.py:97: calling GlorotUniform.__init__ (from tensorflow.python.ops.init_ops) with dtype is deprecated and will be removed in a future version.\n",
      "Instructions for updating:\n",
      "Call initializer instance with the dtype argument instead of passing it to the constructor\n",
      "WARNING:tensorflow:From d:\\python3.6.6\\lib\\site-packages\\tensorflow_core\\python\\ops\\init_ops.py:97: calling Orthogonal.__init__ (from tensorflow.python.ops.init_ops) with dtype is deprecated and will be removed in a future version.\n",
      "Instructions for updating:\n",
      "Call initializer instance with the dtype argument instead of passing it to the constructor\n",
      "WARNING:tensorflow:From d:\\python3.6.6\\lib\\site-packages\\tensorflow_core\\python\\ops\\init_ops.py:97: calling Zeros.__init__ (from tensorflow.python.ops.init_ops) with dtype is deprecated and will be removed in a future version.\n",
      "Instructions for updating:\n",
      "Call initializer instance with the dtype argument instead of passing it to the constructor\n"
     ]
    }
   ],
   "source": [
    "\n",
    "from tensorflow_core.python.keras.layers import Flatten\n",
    "import  numpy as np\n",
    "import matplotlib.pyplot as plt\n",
    "from tensorflow.keras import  Sequential,layers,utils,losses\n",
    "from tensorflow.keras.callbacks import ModelCheckpoint,TensorBoard\n",
    "from tensorflow.keras.layers import Dense,Input,Dropout,Embedding,LSTM,Bidirectional\n",
    "import  warnings\n",
    "warnings.filterwarnings('ignore')\n",
    "\n",
    "\n",
    "\n",
    "model = Sequential()\n",
    "model.add(Embedding(num_words, embedding_dim, weights=[embedding_matrix], input_length=mid_tokens, trainable=False))\n",
    "# model.add(Embedding(num_words, embedding_dim, input_shape=[,X_train.shape], input_length=mid_tokens, trainable=False))\n",
    "model.add(Bidirectional(LSTM(units=64, dropout=0.4, return_sequences=True)))\n",
    "model.add(Flatten())\n",
    "model.add(Dense(256,activation='relu'))\n",
    "model.add(Dense(1,activation='sigmoid'))"
   ],
   "metadata": {
    "collapsed": false,
    "pycharm": {
     "name": "#%%\n"
    }
   }
  },
  {
   "cell_type": "code",
   "execution_count": 22,
   "outputs": [],
   "source": [
    "model.compile(loss='mse',optimizer='adam',metrics=['accuracy'])\n",
    "# model.compile(loss='binary_crossentropy',optimizer='adam',metrics=['accuracy'])"
   ],
   "metadata": {
    "collapsed": false,
    "pycharm": {
     "name": "#%%\n"
    }
   }
  },
  {
   "cell_type": "markdown",
   "source": [
    "#### 查看模型结构"
   ],
   "metadata": {
    "collapsed": false
   }
  },
  {
   "cell_type": "code",
   "execution_count": 23,
   "outputs": [
    {
     "name": "stdout",
     "output_type": "stream",
     "text": [
      "Model: \"sequential\"\n",
      "_________________________________________________________________\n",
      "Layer (type)                 Output Shape              Param #   \n",
      "=================================================================\n",
      "embedding (Embedding)        (None, 332, 300)          15000000  \n",
      "_________________________________________________________________\n",
      "bidirectional (Bidirectional (None, 332, 128)          186880    \n",
      "_________________________________________________________________\n",
      "flatten (Flatten)            (None, 42496)             0         \n",
      "_________________________________________________________________\n",
      "dense (Dense)                (None, 256)               10879232  \n",
      "_________________________________________________________________\n",
      "dense_1 (Dense)              (None, 1)                 257       \n",
      "=================================================================\n",
      "Total params: 26,066,369\n",
      "Trainable params: 11,066,369\n",
      "Non-trainable params: 15,000,000\n",
      "_________________________________________________________________\n"
     ]
    }
   ],
   "source": [
    "model.summary()"
   ],
   "metadata": {
    "collapsed": false,
    "pycharm": {
     "name": "#%%\n"
    }
   }
  },
  {
   "cell_type": "markdown",
   "source": [
    "#### 调试"
   ],
   "metadata": {
    "collapsed": false
   }
  },
  {
   "cell_type": "code",
   "execution_count": 24,
   "outputs": [],
   "source": [
    "path_checkpoint = 'weights.hdf5'\n",
    "checkpointer = ModelCheckpoint(filepath=path_checkpoint,monitor='val_loss',verbose=1,save_best_only=True,save_weights_only=True)"
   ],
   "metadata": {
    "collapsed": false,
    "pycharm": {
     "name": "#%%\n"
    }
   }
  },
  {
   "cell_type": "markdown",
   "source": [
    "#### 尝试加载已训练模型"
   ],
   "metadata": {
    "collapsed": false
   }
  },
  {
   "cell_type": "code",
   "execution_count": 25,
   "outputs": [],
   "source": [
    "\n",
    "# try:\n",
    "#     model.load_weights(path_checkpoint)\n",
    "# except Exception as e:\n",
    "#     print(e)"
   ],
   "metadata": {
    "collapsed": false,
    "pycharm": {
     "name": "#%%\n"
    }
   }
  },
  {
   "cell_type": "markdown",
   "source": [
    "#### 定义early stoping如果10个epoch内validation loss没有改善则停止训练"
   ],
   "metadata": {
    "collapsed": false
   }
  },
  {
   "cell_type": "code",
   "execution_count": 26,
   "outputs": [],
   "source": [
    "\n",
    "from tensorflow_core.python.keras.callbacks import EarlyStopping\n",
    "earlystopping = EarlyStopping(monitor='val_loss', patience=10, verbose=1)"
   ],
   "metadata": {
    "collapsed": false,
    "pycharm": {
     "name": "#%%\n"
    }
   }
  },
  {
   "cell_type": "code",
   "execution_count": 27,
   "outputs": [],
   "source": [
    "from tensorflow_core.python.keras.callbacks import ReduceLROnPlateau\n",
    "\n",
    "# 自动降低learning rate\n",
    "lr_reduction = ReduceLROnPlateau(monitor='val_loss', factor=0.1, min_lr=1e-5, patience=0, verbose=1)\n"
   ],
   "metadata": {
    "collapsed": false,
    "pycharm": {
     "name": "#%%\n"
    }
   }
  },
  {
   "cell_type": "markdown",
   "source": [],
   "metadata": {
    "collapsed": false
   }
  },
  {
   "cell_type": "markdown",
   "source": [
    "#### 定义callback函数"
   ],
   "metadata": {
    "collapsed": false
   }
  },
  {
   "cell_type": "code",
   "execution_count": 28,
   "outputs": [],
   "source": [
    "callbacks = [earlystopping, checkpointer, lr_reduction]"
   ],
   "metadata": {
    "collapsed": false,
    "pycharm": {
     "name": "#%%\n"
    }
   }
  },
  {
   "cell_type": "markdown",
   "source": [
    "#### 变换形状,输入网络中"
   ],
   "metadata": {
    "collapsed": false
   }
  },
  {
   "cell_type": "code",
   "execution_count": 29,
   "outputs": [],
   "source": [
    "# X_train = np.array(X_train)\n",
    "# X_train.reshape(X_train.shape[0],1,X_train.shape[1])\n",
    "# y_train = np.array(y_train)\n",
    "# y_train.reshape(y_train.shape[0],1,y_train.shape[1])"
   ],
   "metadata": {
    "collapsed": false,
    "pycharm": {
     "name": "#%%\n"
    }
   }
  },
  {
   "cell_type": "code",
   "execution_count": 30,
   "outputs": [
    {
     "name": "stdout",
     "output_type": "stream",
     "text": [
      "(15994, 332)\n"
     ]
    }
   ],
   "source": [
    "X_train1 = pd.read_csv(r'x_train_weight.csv',encoding='utf-8',header=1).fillna(0).astype(float).values\n",
    "print(X_train1.shape)\n",
    "# print(X_train1.head())"
   ],
   "metadata": {
    "collapsed": false,
    "pycharm": {
     "name": "#%%\n"
    }
   }
  },
  {
   "cell_type": "code",
   "execution_count": 31,
   "outputs": [
    {
     "name": "stdout",
     "output_type": "stream",
     "text": [
      "WARNING:tensorflow:From d:\\python3.6.6\\lib\\site-packages\\tensorflow_core\\python\\ops\\math_grad.py:1424: where (from tensorflow.python.ops.array_ops) is deprecated and will be removed in a future version.\n",
      "Instructions for updating:\n",
      "Use tf.where in 2.0, which has the same broadcast rule as np.where\n",
      "Train on 14395 samples, validate on 1600 samples\n",
      "Epoch 1/60\n",
      "14336/14395 [============================>.] - ETA: 1s - loss: 0.0428 - acc: 0.2135\n",
      "Epoch 00001: val_loss improved from inf to 0.04222, saving model to weights.hdf5\n",
      "14395/14395 [==============================] - 433s 30ms/sample - loss: 0.0428 - acc: 0.2133 - val_loss: 0.0422 - val_acc: 0.2019\n",
      "Epoch 2/60\n",
      "14336/14395 [============================>.] - ETA: 1s - loss: 0.0420 - acc: 0.2144\n",
      "Epoch 00002: val_loss did not improve from 0.04222\n",
      "\n",
      "Epoch 00002: ReduceLROnPlateau reducing learning rate to 0.00010000000474974513.\n",
      "14395/14395 [==============================] - 424s 29ms/sample - loss: 0.0419 - acc: 0.2143 - val_loss: 0.0422 - val_acc: 0.2019\n",
      "Epoch 3/60\n",
      "14336/14395 [============================>.] - ETA: 1s - loss: 0.0419 - acc: 0.2138\n",
      "Epoch 00003: val_loss did not improve from 0.04222\n",
      "\n",
      "Epoch 00003: ReduceLROnPlateau reducing learning rate to 1.0000000474974514e-05.\n",
      "14395/14395 [==============================] - 427s 30ms/sample - loss: 0.0419 - acc: 0.2143 - val_loss: 0.0422 - val_acc: 0.2019\n",
      "Epoch 4/60\n",
      "14336/14395 [============================>.] - ETA: 1s - loss: 0.0420 - acc: 0.2138\n",
      "Epoch 00004: val_loss did not improve from 0.04222\n",
      "\n",
      "Epoch 00004: ReduceLROnPlateau reducing learning rate to 1e-05.\n",
      "14395/14395 [==============================] - 426s 30ms/sample - loss: 0.0419 - acc: 0.2143 - val_loss: 0.0422 - val_acc: 0.2019\n",
      "Epoch 5/60\n",
      "14336/14395 [============================>.] - ETA: 1s - loss: 0.0418 - acc: 0.2145\n",
      "Epoch 00005: val_loss did not improve from 0.04222\n",
      "14395/14395 [==============================] - 424s 29ms/sample - loss: 0.0419 - acc: 0.2143 - val_loss: 0.0422 - val_acc: 0.2019\n",
      "Epoch 6/60\n",
      "14336/14395 [============================>.] - ETA: 1s - loss: 0.0419 - acc: 0.2141\n",
      "Epoch 00006: val_loss did not improve from 0.04222\n",
      "14395/14395 [==============================] - 422s 29ms/sample - loss: 0.0419 - acc: 0.2143 - val_loss: 0.0422 - val_acc: 0.2019\n",
      "Epoch 7/60\n",
      "14336/14395 [============================>.] - ETA: 1s - loss: 0.0419 - acc: 0.2142\n",
      "Epoch 00007: val_loss did not improve from 0.04222\n",
      "14395/14395 [==============================] - 421s 29ms/sample - loss: 0.0419 - acc: 0.2143 - val_loss: 0.0422 - val_acc: 0.2019\n",
      "Epoch 8/60\n",
      "14336/14395 [============================>.] - ETA: 1s - loss: 0.0419 - acc: 0.2142\n",
      "Epoch 00008: val_loss did not improve from 0.04222\n",
      "14395/14395 [==============================] - 420s 29ms/sample - loss: 0.0419 - acc: 0.2143 - val_loss: 0.0422 - val_acc: 0.2019\n",
      "Epoch 9/60\n",
      "14336/14395 [============================>.] - ETA: 1s - loss: 0.0420 - acc: 0.2143\n",
      "Epoch 00009: val_loss did not improve from 0.04222\n",
      "14395/14395 [==============================] - 420s 29ms/sample - loss: 0.0419 - acc: 0.2143 - val_loss: 0.0422 - val_acc: 0.2019\n",
      "Epoch 10/60\n",
      "14336/14395 [============================>.] - ETA: 1s - loss: 0.0419 - acc: 0.2143\n",
      "Epoch 00010: val_loss did not improve from 0.04222\n",
      "14395/14395 [==============================] - 420s 29ms/sample - loss: 0.0419 - acc: 0.2143 - val_loss: 0.0422 - val_acc: 0.2019\n",
      "Epoch 11/60\n",
      "14336/14395 [============================>.] - ETA: 1s - loss: 0.0419 - acc: 0.2144\n",
      "Epoch 00011: val_loss did not improve from 0.04222\n",
      "14395/14395 [==============================] - 421s 29ms/sample - loss: 0.0419 - acc: 0.2143 - val_loss: 0.0422 - val_acc: 0.2019\n",
      "Epoch 00011: early stopping\n"
     ]
    }
   ],
   "source": [
    "# 开始训练\n",
    "history = model.fit(X_train, y_train, validation_split=my_validation_split, epochs = 60, batch_size=my_batch_size, callbacks=callbacks)"
   ],
   "metadata": {
    "collapsed": false,
    "pycharm": {
     "name": "#%%\n"
    }
   }
  },
  {
   "cell_type": "code",
   "execution_count": 32,
   "outputs": [
    {
     "data": {
      "text/plain": "<Figure size 792x288 with 2 Axes>",
      "image/png": "[encoded data removed]"
     },
     "metadata": {
      "needs_background": "light"
     },
     "output_type": "display_data"
    },
    {
     "ename": "InvocationException",
     "evalue": "GraphViz's executables not found",
     "output_type": "error",
     "traceback": [
      "\u001B[1;31m---------------------------------------------------------------------------\u001B[0m",
      "\u001B[1;31mInvocationException\u001B[0m                       Traceback (most recent call last)",
      "\u001B[1;32m<ipython-input-32-7bb72fbaaeb9>\u001B[0m in \u001B[0;36m<module>\u001B[1;34m\u001B[0m\n\u001B[0;32m     25\u001B[0m \u001B[1;33m\u001B[0m\u001B[0m\n\u001B[0;32m     26\u001B[0m \u001B[1;31m# 模型可视化-RNN\u001B[0m\u001B[1;33m\u001B[0m\u001B[1;33m\u001B[0m\u001B[0m\n\u001B[1;32m---> 27\u001B[1;33m \u001B[0mplot_model\u001B[0m\u001B[1;33m(\u001B[0m\u001B[0mmodel\u001B[0m\u001B[1;33m,\u001B[0m \u001B[0mshow_shapes\u001B[0m\u001B[1;33m=\u001B[0m\u001B[1;32mTrue\u001B[0m\u001B[1;33m,\u001B[0m \u001B[0mshow_layer_names\u001B[0m\u001B[1;33m=\u001B[0m\u001B[1;32mTrue\u001B[0m\u001B[1;33m,\u001B[0m \u001B[0mto_file\u001B[0m\u001B[1;33m=\u001B[0m\u001B[1;34m'tmp\\\\model.png'\u001B[0m\u001B[1;33m)\u001B[0m\u001B[1;33m\u001B[0m\u001B[0m\n\u001B[0m",
      "\u001B[1;32md:\\python3.6.6\\lib\\site-packages\\tensorflow_core\\python\\keras\\utils\\vis_utils.py\u001B[0m in \u001B[0;36mplot_model\u001B[1;34m(model, to_file, show_shapes, show_layer_names, rankdir, expand_nested, dpi)\u001B[0m\n\u001B[0;32m    281\u001B[0m                      \u001B[0mrankdir\u001B[0m\u001B[1;33m=\u001B[0m\u001B[0mrankdir\u001B[0m\u001B[1;33m,\u001B[0m\u001B[1;33m\u001B[0m\u001B[0m\n\u001B[0;32m    282\u001B[0m                      \u001B[0mexpand_nested\u001B[0m\u001B[1;33m=\u001B[0m\u001B[0mexpand_nested\u001B[0m\u001B[1;33m,\u001B[0m\u001B[1;33m\u001B[0m\u001B[0m\n\u001B[1;32m--> 283\u001B[1;33m                      dpi=dpi)\n\u001B[0m\u001B[0;32m    284\u001B[0m   \u001B[1;32mif\u001B[0m \u001B[0mdot\u001B[0m \u001B[1;32mis\u001B[0m \u001B[1;32mNone\u001B[0m\u001B[1;33m:\u001B[0m\u001B[1;33m\u001B[0m\u001B[0m\n\u001B[0;32m    285\u001B[0m     \u001B[1;32mreturn\u001B[0m\u001B[1;33m\u001B[0m\u001B[0m\n",
      "\u001B[1;32md:\\python3.6.6\\lib\\site-packages\\tensorflow_core\\python\\keras\\utils\\vis_utils.py\u001B[0m in \u001B[0;36mmodel_to_dot\u001B[1;34m(model, show_shapes, show_layer_names, rankdir, expand_nested, dpi, subgraph)\u001B[0m\n\u001B[0;32m    100\u001B[0m   \u001B[1;32mfrom\u001B[0m \u001B[0mtensorflow\u001B[0m\u001B[1;33m.\u001B[0m\u001B[0mpython\u001B[0m\u001B[1;33m.\u001B[0m\u001B[0mkeras\u001B[0m\u001B[1;33m.\u001B[0m\u001B[0mengine\u001B[0m \u001B[1;32mimport\u001B[0m \u001B[0mnetwork\u001B[0m\u001B[1;33m\u001B[0m\u001B[0m\n\u001B[0;32m    101\u001B[0m \u001B[1;33m\u001B[0m\u001B[0m\n\u001B[1;32m--> 102\u001B[1;33m   \u001B[1;32mif\u001B[0m \u001B[1;32mnot\u001B[0m \u001B[0mcheck_pydot\u001B[0m\u001B[1;33m(\u001B[0m\u001B[1;33m)\u001B[0m\u001B[1;33m:\u001B[0m\u001B[1;33m\u001B[0m\u001B[0m\n\u001B[0m\u001B[0;32m    103\u001B[0m     \u001B[1;32mif\u001B[0m \u001B[1;34m'IPython.core.magics.namespace'\u001B[0m \u001B[1;32min\u001B[0m \u001B[0msys\u001B[0m\u001B[1;33m.\u001B[0m\u001B[0mmodules\u001B[0m\u001B[1;33m:\u001B[0m\u001B[1;33m\u001B[0m\u001B[0m\n\u001B[0;32m    104\u001B[0m       \u001B[1;31m# We don't raise an exception here in order to avoid crashing notebook\u001B[0m\u001B[1;33m\u001B[0m\u001B[1;33m\u001B[0m\u001B[0m\n",
      "\u001B[1;32md:\\python3.6.6\\lib\\site-packages\\tensorflow_core\\python\\keras\\utils\\vis_utils.py\u001B[0m in \u001B[0;36mcheck_pydot\u001B[1;34m()\u001B[0m\n\u001B[0;32m     48\u001B[0m     \u001B[1;31m# Attempt to create an image of a blank graph\u001B[0m\u001B[1;33m\u001B[0m\u001B[1;33m\u001B[0m\u001B[0m\n\u001B[0;32m     49\u001B[0m     \u001B[1;31m# to check the pydot/graphviz installation.\u001B[0m\u001B[1;33m\u001B[0m\u001B[1;33m\u001B[0m\u001B[0m\n\u001B[1;32m---> 50\u001B[1;33m     \u001B[0mpydot\u001B[0m\u001B[1;33m.\u001B[0m\u001B[0mDot\u001B[0m\u001B[1;33m.\u001B[0m\u001B[0mcreate\u001B[0m\u001B[1;33m(\u001B[0m\u001B[0mpydot\u001B[0m\u001B[1;33m.\u001B[0m\u001B[0mDot\u001B[0m\u001B[1;33m(\u001B[0m\u001B[1;33m)\u001B[0m\u001B[1;33m)\u001B[0m\u001B[1;33m\u001B[0m\u001B[0m\n\u001B[0m\u001B[0;32m     51\u001B[0m     \u001B[1;32mreturn\u001B[0m \u001B[1;32mTrue\u001B[0m\u001B[1;33m\u001B[0m\u001B[0m\n\u001B[0;32m     52\u001B[0m   \u001B[1;32mexcept\u001B[0m \u001B[0mOSError\u001B[0m\u001B[1;33m:\u001B[0m\u001B[1;33m\u001B[0m\u001B[0m\n",
      "\u001B[1;32md:\\python3.6.6\\lib\\site-packages\\pydot_ng\\__init__.py\u001B[0m in \u001B[0;36mcreate\u001B[1;34m(self, prog, format)\u001B[0m\n\u001B[0;32m   1819\u001B[0m             \u001B[1;32mif\u001B[0m \u001B[0mself\u001B[0m\u001B[1;33m.\u001B[0m\u001B[0mprogs\u001B[0m \u001B[1;32mis\u001B[0m \u001B[1;32mNone\u001B[0m\u001B[1;33m:\u001B[0m\u001B[1;33m\u001B[0m\u001B[0m\n\u001B[0;32m   1820\u001B[0m                 raise InvocationException(\n\u001B[1;32m-> 1821\u001B[1;33m                     'GraphViz\\'s executables not found')\n\u001B[0m\u001B[0;32m   1822\u001B[0m \u001B[1;33m\u001B[0m\u001B[0m\n\u001B[0;32m   1823\u001B[0m         \u001B[1;32mif\u001B[0m \u001B[0mprog\u001B[0m \u001B[1;32mnot\u001B[0m \u001B[1;32min\u001B[0m \u001B[0mself\u001B[0m\u001B[1;33m.\u001B[0m\u001B[0mprogs\u001B[0m\u001B[1;33m:\u001B[0m\u001B[1;33m\u001B[0m\u001B[0m\n",
      "\u001B[1;31mInvocationException\u001B[0m: GraphViz's executables not found"
     ]
    }
   ],
   "source": [
    "from tensorflow_core.python.keras.utils import plot_model\n",
    "\n",
    "# 模型可视化-历史\n",
    "plt.figure(figsize=(11, 4))\n",
    "\n",
    "plt.figure(1)\n",
    "plt.subplot(1, 2, 1)\n",
    "plt.plot(history.history['acc'])\n",
    "plt.plot(history.history['val_acc'])\n",
    "plt.title('Model accuracy')\n",
    "plt.ylabel('Accuracy')\n",
    "plt.xlabel('Epoch')\n",
    "plt.legend(['Training', 'validation'])\n",
    "\n",
    "plt.figure(1)\n",
    "plt.subplot(1, 2, 2)\n",
    "plt.plot(history.history['loss'])\n",
    "plt.plot(history.history['val_loss'])\n",
    "plt.title('Model loss')\n",
    "plt.ylabel('Loss')\n",
    "plt.xlabel('Epoch')\n",
    "plt.legend(['Training', 'validation'])\n",
    "\n",
    "plt.show()\n",
    "\n",
    "# 模型可视化-RNN\n",
    "plot_model(model, show_shapes=True, show_layer_names=True, to_file='tmp\\\\model.png')"
   ],
   "metadata": {
    "collapsed": false,
    "pycharm": {
     "name": "#%%\n"
    }
   }
  },
  {
   "cell_type": "markdown",
   "source": [
    "### 模型评估"
   ],
   "metadata": {
    "collapsed": false
   }
  },
  {
   "cell_type": "code",
   "execution_count": 36,
   "outputs": [
    {
     "name": "stdout",
     "output_type": "stream",
     "text": [
      "Loss: 0.04196\n",
      "Accuracy: 21.3067%\n"
     ]
    }
   ],
   "source": [
    "\n",
    "# 模型评估-准确率\n",
    "result = model.evaluate(X_train, y_train, verbose=0)\n",
    "print('Loss: {0:.4}'.format(result[0]))\n",
    "print('Accuracy: {0:.4%}'.format(result[1]))"
   ],
   "metadata": {
    "collapsed": false,
    "pycharm": {
     "name": "#%%\n"
    }
   }
  },
  {
   "cell_type": "code",
   "execution_count": 37,
   "outputs": [
    {
     "data": {
      "text/plain": "                                                           链接  是否含有视频  转发数  \\\n博主id                                                                         \n1978054071  http://weibo.com/1978054071/Is4iA2gG1?refer_fl...       0    0   \n2279982780  http://weibo.com/2279982780/Is01jyQIv?refer_fl...       0    0   \n2062204527  http://weibo.com/2062204527/IrZt9rt6G?refer_fl...       0    1   \n2137821047  http://weibo.com/2137821047/Is4hbqMtg?refer_fl...       0    0   \n1978054071  http://weibo.com/1978054071/Is0orfI0u?refer_fl...       0    1   \n\n            评论数  点赞数 微博认证类型  是否原创 性别  \\\n博主id                                   \n1978054071    0    0      1     0  女   \n2279982780    1    1      1     0  男   \n2062204527    0    0      1     0  男   \n2137821047    0    0      1     0  男   \n1978054071    0    0      1     0  女   \n\n                                                           博文  \\\n博主id                                                            \n1978054071  #战胜新型冠状病毒#宁夏应对新型冠状病毒感染肺炎疫情工作指挥部公告（第三号）####战胜新型...   \n2279982780  关于新型冠状病毒感染的肺炎，这些谣言你别信！#战胜新型冠状病毒# ​​​###关于新型冠状病...   \n2062204527  关于新型冠状病毒感染的肺炎，这些谣言你别信！#战胜新型冠状病毒# ​​​###关于新型冠状病...   \n2137821047  #战胜新型冠状病毒#宁夏应对新型冠状病毒感染肺炎疫情工作指挥部公告（第三号）####战胜新型...   \n1978054071  #战胜新型冠状病毒# 全区新型冠状病毒感染的肺炎疫情通报####战胜新型冠状病毒# 全区新型...   \n\n                           发布时间 is_gov  \n博主id                                    \n1978054071  2020-01-31 20:45:27    yes  \n2279982780  2020-01-31 09:51:55    yes  \n2062204527  2020-01-31 08:27:45    yes  \n2137821047  2020-01-31 20:42:01    yes  \n1978054071  2020-01-31 10:48:53    yes  ",
      "text/html": "<div>\n<style scoped>\n    .dataframe tbody tr th:only-of-type {\n        vertical-align: middle;\n    }\n\n    .dataframe tbody tr th {\n        vertical-align: top;\n    }\n\n    .dataframe thead th {\n        text-align: right;\n    }\n</style>\n<table border=\"1\" class=\"dataframe\">\n  <thead>\n    <tr style=\"text-align: right;\">\n      <th></th>\n      <th>链接</th>\n      <th>是否含有视频</th>\n      <th>转发数</th>\n      <th>评论数</th>\n      <th>点赞数</th>\n      <th>微博认证类型</th>\n      <th>是否原创</th>\n      <th>性别</th>\n      <th>博文</th>\n      <th>发布时间</th>\n      <th>is_gov</th>\n    </tr>\n    <tr>\n      <th>博主id</th>\n      <th></th>\n      <th></th>\n      <th></th>\n      <th></th>\n      <th></th>\n      <th></th>\n      <th></th>\n      <th></th>\n      <th></th>\n      <th></th>\n      <th></th>\n    </tr>\n  </thead>\n  <tbody>\n    <tr>\n      <th>1978054071</th>\n      <td>http://weibo.com/1978054071/Is4iA2gG1?refer_fl...</td>\n      <td>0</td>\n      <td>0</td>\n      <td>0</td>\n      <td>0</td>\n      <td>1</td>\n      <td>0</td>\n      <td>女</td>\n      <td>#战胜新型冠状病毒#宁夏应对新型冠状病毒感染肺炎疫情工作指挥部公告（第三号）####战胜新型...</td>\n      <td>2020-01-31 20:45:27</td>\n      <td>yes</td>\n    </tr>\n    <tr>\n      <th>2279982780</th>\n      <td>http://weibo.com/2279982780/Is01jyQIv?refer_fl...</td>\n      <td>0</td>\n      <td>0</td>\n      <td>1</td>\n      <td>1</td>\n      <td>1</td>\n      <td>0</td>\n      <td>男</td>\n      <td>关于新型冠状病毒感染的肺炎，这些谣言你别信！#战胜新型冠状病毒# ​​​###关于新型冠状病...</td>\n      <td>2020-01-31 09:51:55</td>\n      <td>yes</td>\n    </tr>\n    <tr>\n      <th>2062204527</th>\n      <td>http://weibo.com/2062204527/IrZt9rt6G?refer_fl...</td>\n      <td>0</td>\n      <td>1</td>\n      <td>0</td>\n      <td>0</td>\n      <td>1</td>\n      <td>0</td>\n      <td>男</td>\n      <td>关于新型冠状病毒感染的肺炎，这些谣言你别信！#战胜新型冠状病毒# ​​​###关于新型冠状病...</td>\n      <td>2020-01-31 08:27:45</td>\n      <td>yes</td>\n    </tr>\n    <tr>\n      <th>2137821047</th>\n      <td>http://weibo.com/2137821047/Is4hbqMtg?refer_fl...</td>\n      <td>0</td>\n      <td>0</td>\n      <td>0</td>\n      <td>0</td>\n      <td>1</td>\n      <td>0</td>\n      <td>男</td>\n      <td>#战胜新型冠状病毒#宁夏应对新型冠状病毒感染肺炎疫情工作指挥部公告（第三号）####战胜新型...</td>\n      <td>2020-01-31 20:42:01</td>\n      <td>yes</td>\n    </tr>\n    <tr>\n      <th>1978054071</th>\n      <td>http://weibo.com/1978054071/Is0orfI0u?refer_fl...</td>\n      <td>0</td>\n      <td>1</td>\n      <td>0</td>\n      <td>0</td>\n      <td>1</td>\n      <td>0</td>\n      <td>女</td>\n      <td>#战胜新型冠状病毒# 全区新型冠状病毒感染的肺炎疫情通报####战胜新型冠状病毒# 全区新型...</td>\n      <td>2020-01-31 10:48:53</td>\n      <td>yes</td>\n    </tr>\n  </tbody>\n</table>\n</div>"
     },
     "execution_count": 37,
     "metadata": {},
     "output_type": "execute_result"
    }
   ],
   "source": [
    "import pandas as pd\n",
    "\n",
    "test_text = pd.read_csv(r'1月_add_gov.csv',encoding='utf-8',index_col='博主id')\n",
    "test_text.head()"
   ],
   "metadata": {
    "collapsed": false,
    "pycharm": {
     "name": "#%%\n"
    }
   }
  },
  {
   "cell_type": "code",
   "execution_count": 38,
   "outputs": [
    {
     "name": "stdout",
     "output_type": "stream",
     "text": [
      "博主id\n",
      "1978054071    #战胜新型冠状病毒#宁夏应对新型冠状病毒感染肺炎疫情工作指挥部公告（第三号）####战胜新型...\n",
      "2279982780    关于新型冠状病毒感染的肺炎，这些谣言你别信！#战胜新型冠状病毒# ​​​###关于新型冠状病...\n",
      "2062204527    关于新型冠状病毒感染的肺炎，这些谣言你别信！#战胜新型冠状病毒# ​​​###关于新型冠状病...\n",
      "2137821047    #战胜新型冠状病毒#宁夏应对新型冠状病毒感染肺炎疫情工作指挥部公告（第三号）####战胜新型...\n",
      "1978054071    #战胜新型冠状病毒# 全区新型冠状病毒感染的肺炎疫情通报####战胜新型冠状病毒# 全区新型...\n",
      "1933890202    #战胜新型冠状病毒# 全区新型冠状病毒感染的肺炎疫情通报####战胜新型冠状病毒# 全区新型...\n",
      "5385428953               #新型冠状病毒# 新型冠状病毒感染的肺炎公众防护指南。 O网页链接 ​​​​\n",
      "1885504473                关于新型冠状病毒感染的肺炎，这些谣言你别信！#战胜新型冠状病毒# ​​​​\n",
      "2675070131            实时更新 | 新型冠状病毒肺炎全国疫情地图 O新型冠状病毒肺炎全国疫情图 ​​​​\n",
      "5657460977    我省新增36例新型冠状病毒感染的肺炎确诊病例 1月30日，按照《新型冠状病毒感染的肺炎诊疗方...\n",
      "Name: 博文, dtype: object\n"
     ]
    }
   ],
   "source": [
    "test_text1 = test_text.iloc[:,8]\n",
    "print(test_text1[0:10])"
   ],
   "metadata": {
    "collapsed": false,
    "pycharm": {
     "name": "#%%\n"
    }
   }
  },
  {
   "cell_type": "markdown",
   "source": [
    "### 测试集预处理并编码\n",
    "#### jieba分词"
   ],
   "metadata": {
    "collapsed": false
   }
  },
  {
   "cell_type": "code",
   "execution_count": 39,
   "outputs": [
    {
     "name": "stdout",
     "output_type": "stream",
     "text": [
      "(2591840,)\n"
     ]
    }
   ],
   "source": [
    "print(test_text1.shape)"
   ],
   "metadata": {
    "collapsed": false,
    "pycharm": {
     "name": "#%%\n"
    }
   }
  },
  {
   "cell_type": "code",
   "execution_count": 40,
   "outputs": [
    {
     "name": "stdout",
     "output_type": "stream",
     "text": [
      "num of train_tokens: 2591840\n"
     ]
    }
   ],
   "source": [
    "test_tokens = []\n",
    "for text in test_text1:\n",
    "    # 分词前去掉标点和特殊符号\n",
    "    text = re.sub(\"[\\s+\\.\\!\\/_,-|$%^*(+\\\"\\')]+|[+——！，； 。？ 、~@#￥%……&*（）]+\", \"\", str(text))\n",
    "    # text = text.split()\n",
    "    cut = jieba.cut(text)\n",
    "    cut_list = [i for i in cut]\n",
    "    for i, word in enumerate(cut_list):\n",
    "        try:\n",
    "            # 将分出来的每个词转换为词向量中的对应索引\n",
    "            cut_list[i] = cn_model.key_to_index[word]\n",
    "        except KeyError:\n",
    "            # 如果词不在词向量中，则索引标记为0\n",
    "            cut_list[i] = 0\n",
    "    test_tokens.append(cut_list)\n",
    "print('num of train_tokens: {0}'.format(len(test_tokens)))"
   ],
   "metadata": {
    "collapsed": false,
    "pycharm": {
     "name": "#%%\n"
    }
   }
  },
  {
   "cell_type": "markdown",
   "source": [
    "#### 保存"
   ],
   "metadata": {
    "collapsed": false
   }
  },
  {
   "cell_type": "code",
   "execution_count": 43,
   "outputs": [
    {
     "name": "stdout",
     "output_type": "stream",
     "text": [
      "[[7048, 9850, 129767, 3364, 5554, 9850, 129767, 5958, 38274, 41780, 246, 38360, 9101, 0, 7048, 9850, 129767, 3364, 5554, 9850, 129767, 5958, 38274, 41780, 246, 38360, 9101, 0, 3364, 5554, 9850, 129767, 5958, 38274, 41780, 246, 38360, 0, 0, 0, 0], [911, 9850, 129767, 5958, 1, 38274, 313, 6330, 15, 0, 7048, 9850, 129767, 0, 0, 0, 911, 9850, 129767, 5958, 1, 38274, 313, 6330, 15, 0, 7048, 9850, 129767, 0, 0, 0, 0], [911, 9850, 129767, 5958, 1, 38274, 313, 6330, 15, 0, 7048, 9850, 129767, 0, 0, 0, 911, 9850, 129767, 5958, 1, 38274, 313, 6330, 15, 0, 7048, 9850, 129767, 0, 0, 0, 0], [7048, 9850, 129767, 3364, 5554, 9850, 129767, 5958, 38274, 41780, 246, 38360, 9101, 0, 7048, 9850, 129767, 3364, 5554, 9850, 129767, 5958, 38274, 41780, 246, 38360, 9101, 0, 0], [7048, 9850, 129767, 50522, 9850, 129767, 5958, 1, 38274, 41780, 12522, 7048, 9850, 129767, 50522, 9850, 129767, 5958, 1, 38274, 41780, 12522, 5754, 37, 0, 50522, 6230, 2494, 9850, 129767, 5958, 1, 38274, 18244, 19968, 6607, 33087, 6607, 631, 64109, 6607, 0, 6607, 0, 6607, 0, 6607, 0, 6607, 0, 6607, 0, 6607, 0, 0, 0, 6607, 0, 6607, 159889, 6607, 0, 6607, 0, 0, 0, 0, 3548, 6890]]\n"
     ]
    }
   ],
   "source": [
    "# pd.DataFrame(test_tokens).to_csv(r'测试集分词结果.csv',encoding='utf-8')\n",
    "print(test_tokens[0:5])"
   ],
   "metadata": {
    "collapsed": false,
    "pycharm": {
     "name": "#%%\n"
    }
   }
  },
  {
   "cell_type": "code",
   "execution_count": 45,
   "outputs": [
    {
     "name": "stdout",
     "output_type": "stream",
     "text": [
      "[[    0     0     0 ...     0     0     0]\n",
      " [    0     0     0 ...     0     0     0]\n",
      " [    0     0     0 ...     0     0     0]\n",
      " ...\n",
      " [    0     0     0 ...     0  3548  6890]\n",
      " [    0     0     0 ... 18244  9850 38274]\n",
      " [    0     0     0 ... 18244  9850 38274]]\n"
     ]
    }
   ],
   "source": [
    "from keras_preprocessing.sequence import pad_sequences\n",
    "\n",
    "# 输入的train_tokens是一个list，返回的train_pad是一个numpy array，采用pre填充的方式\n",
    "test_pad = pad_sequences(test_tokens, maxlen=mid_tokens, padding='pre', truncating='pre')\n",
    "print(test_pad)"
   ],
   "metadata": {
    "collapsed": false,
    "pycharm": {
     "name": "#%%\n"
    }
   }
  },
  {
   "cell_type": "code",
   "execution_count": 46,
   "outputs": [
    {
     "name": "stdout",
     "output_type": "stream",
     "text": [
      "(2591840, 332)\n"
     ]
    }
   ],
   "source": [
    "print(test_pad.shape)"
   ],
   "metadata": {
    "collapsed": false,
    "pycharm": {
     "name": "#%%\n"
    }
   }
  },
  {
   "cell_type": "code",
   "execution_count": 47,
   "outputs": [],
   "source": [
    "# 超出五万个词向量的词用0代替\n",
    "test_pad[test_pad>=num_words] = 0\n",
    "\n",
    "# 准备实际输出结果向量向量，前2000好评的样本设为1，后2000差评样本设为0\n",
    "# test_target = label_train"
   ],
   "metadata": {
    "collapsed": false,
    "pycharm": {
     "name": "#%%\n"
    }
   }
  },
  {
   "cell_type": "code",
   "execution_count": 48,
   "outputs": [
    {
     "name": "stdout",
     "output_type": "stream",
     "text": [
      "[[    0     0     0 ...     0     0     0]\n",
      " [    0     0     0 ...     0     0     0]\n",
      " [    0     0     0 ...     0     0     0]\n",
      " ...\n",
      " [    0     0     0 ...     0  3548  6890]\n",
      " [    0     0     0 ... 18244  9850 38274]\n",
      " [    0     0     0 ... 18244  9850 38274]]\n"
     ]
    }
   ],
   "source": [
    "print(test_pad)"
   ],
   "metadata": {
    "collapsed": false,
    "pycharm": {
     "name": "#%%\n"
    }
   }
  },
  {
   "cell_type": "markdown",
   "source": [
    "### 测试集预测"
   ],
   "metadata": {
    "collapsed": false
   }
  },
  {
   "cell_type": "code",
   "execution_count": null,
   "outputs": [],
   "source": [
    "predict = model.predict(test_pad,batch_size = my_batch_size,verbose = 0)\n",
    "print(predict)"
   ],
   "metadata": {
    "collapsed": false,
    "pycharm": {
     "name": "#%%\n",
     "is_executing": true
    }
   }
  },
  {
   "cell_type": "markdown",
   "source": [],
   "metadata": {
    "collapsed": false
   }
  }
 ],
 "metadata": {
  "kernelspec": {
   "display_name": "Python 3",
   "language": "python",
   "name": "python3"
  },
  "language_info": {
   "codemirror_mode": {
    "name": "ipython",
    "version": 2
   },
   "file_extension": ".py",
   "mimetype": "text/x-python",
   "name": "python",
   "nbconvert_exporter": "python",
   "pygments_lexer": "ipython2",
   "version": "2.7.6"
  }
 },
 "nbformat": 4,
 "nbformat_minor": 0
}